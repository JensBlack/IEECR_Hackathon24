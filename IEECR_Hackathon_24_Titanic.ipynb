{
  "cells": [
    {
      "cell_type": "markdown",
      "metadata": {
        "id": "view-in-github",
        "colab_type": "text"
      },
      "source": [
        "<a href=\"https://colab.research.google.com/github/JensBlack/IEECR_Hackathon24/blob/main/IEECR_Hackathon_24_Titanic.ipynb\" target=\"_parent\"><img src=\"https://colab.research.google.com/assets/colab-badge.svg\" alt=\"Open In Colab\"/></a>"
      ]
    },
    {
      "cell_type": "markdown",
      "metadata": {
        "id": "K5T7vfpsv5Jx"
      },
      "source": [
        "# IEECR HACKATHON 2024\n",
        "\n",
        "## Introduction to Machine Learning with the Titanic Dataset\n",
        "\n",
        "This tutorial will guide you through a basic machine learning workflow using the Titanic dataset. We'll explore data preprocessing, model training, and evaluation.\n",
        "\n"
      ]
    },
    {
      "cell_type": "code",
      "source": [
        "#@title Install all necessary libraries, prepare dataset and do some magic!\n",
        "print(\"Installing all dependencies\")\n",
        "! pip install numpy pandas matplotlib scipy scikit-learn seaborn\n",
        "print(\"Importing all packages...\")\n",
        "# Import all necessary libraries\n",
        "import pandas as pd\n",
        "import numpy as np\n",
        "import seaborn as sns\n",
        "import matplotlib.pyplot as plt\n",
        "from sklearn.model_selection import train_test_split\n",
        "from sklearn.metrics import accuracy_score\n",
        "from sklearn.preprocessing import LabelEncoder\n",
        "\n",
        "# Preparing data for you (just run)\n",
        "print(\"Loading data...\")\n",
        "data = sns.load_dataset(\"titanic\")\n",
        "\n",
        "cleaned_data = data.copy(deep = True)\n",
        "\n",
        "#data cleaning\n",
        "\n",
        "## add missing values in age with mean age\n",
        "print(\"Found some dust. Cleaning data...\")\n",
        "age_idx = np.argwhere(cleaned_data[\"age\"].isna()).flatten()\n",
        "cleaned_data[\"age\"].iloc[age_idx] = cleaned_data.age.mean()\n",
        "\n",
        "## the deck column has almost no values, so let's drop it\n",
        "\n",
        "cleaned_data = cleaned_data.drop(columns = [\"deck\"])\n",
        "\n",
        "## remove people that are unknown in their embarkment\n",
        "emb_idx = np.argwhere(cleaned_data[\"embarked\"].isna()).flatten()\n",
        "cleaned_data = cleaned_data.drop(index= emb_idx, axis=0)\n",
        "\n",
        "targets = cleaned_data.survived\n",
        "features = cleaned_data.drop(columns = \"survived\")\n",
        "\n",
        "#Convert features to be usable\n",
        "\n",
        "print(\"Converting data to features and targets...\")\n",
        "\n",
        "## binary encode sex\n",
        "adpt_features = features.copy(deep = True)\n",
        "\n",
        "#drop columns that are useless or cheating\n",
        "adpt_features.drop(columns = [\"adult_male\", \"embark_town\", \"who\", \"class\", \"alive\"], inplace = True)\n",
        "\n",
        "# female = 1, male = 0\n",
        "\n",
        "n_sex = np.zeros_like(adpt_features.sex)\n",
        "n_sex[np.argwhere(adpt_features.sex == \"female\").flatten()] = 1\n",
        "adpt_features.sex = n_sex\n",
        "\n",
        "# alone and alive are both binary\n",
        "\n",
        "adpt_features.alone = adpt_features.alone.astype(int)\n",
        "\n",
        "# # yes = 1, no = 0\n",
        "# n_alive = np.zeros_like(adpt_features.alive)\n",
        "# n_alive[np.argwhere(adpt_features.alive == \"yes\").flatten()] = 1\n",
        "\n",
        "# adpt_features.alive = n_alive\n",
        "\n",
        "## embark needs to be reencoded to numbers, same with class\n",
        "l_encoder = LabelEncoder()\n",
        "n_embarked = l_encoder.fit_transform(adpt_features.embarked)\n",
        "adpt_features.embarked = n_embarked\n",
        "\n",
        "print(\"Doing some magic...\")\n",
        "#split data to create test_data for later testing\n",
        "train_data, test_data, train_targets, test_targets = train_test_split(adpt_features, targets\n",
        "                                                    , test_size=0.3\n",
        "                                                    , random_state=42)\n",
        "\n",
        "#reset index for train and test data to avoid confusion\n",
        "\n",
        "train_data.reset_index(drop=True, inplace=True)\n",
        "train_targets.reset_index(drop=True, inplace=True)\n",
        "test_data.reset_index(drop=True, inplace=True)\n",
        "test_targets.reset_index(drop=True, inplace=True)\n",
        "\n",
        "print(\"Done! You can start running your own code now\")\n",
        "\n",
        "# If you are reading this, you are looking at preperation code and most likely found the test_targets :)\n",
        "# In the interest of learning and fairness, we kindly ask you to not accessing the test data or targets until prediction!\n",
        "# In the real world, test data represents unseen data (e.g., during an experiment), which you trust your classifier to solve without\n",
        "# information about it. So, do yourself a favor and try to solve this challenge without accessing this data. It is literally cheating!"
      ],
      "metadata": {
        "id": "CR6kqGd3Lwv-",
        "cellView": "form",
        "outputId": "58524a8f-9057-4f06-a605-03a0e3e6d815",
        "colab": {
          "base_uri": "https://localhost:8080/"
        }
      },
      "execution_count": 17,
      "outputs": [
        {
          "output_type": "stream",
          "name": "stdout",
          "text": [
            "Installing all dependencies\n",
            "Requirement already satisfied: numpy in /usr/local/lib/python3.10/dist-packages (1.26.4)\n",
            "Requirement already satisfied: pandas in /usr/local/lib/python3.10/dist-packages (2.1.4)\n",
            "Requirement already satisfied: matplotlib in /usr/local/lib/python3.10/dist-packages (3.7.1)\n",
            "Requirement already satisfied: scipy in /usr/local/lib/python3.10/dist-packages (1.13.1)\n",
            "Requirement already satisfied: scikit-learn in /usr/local/lib/python3.10/dist-packages (1.3.2)\n",
            "Requirement already satisfied: seaborn in /usr/local/lib/python3.10/dist-packages (0.13.1)\n",
            "Requirement already satisfied: python-dateutil>=2.8.2 in /usr/local/lib/python3.10/dist-packages (from pandas) (2.8.2)\n",
            "Requirement already satisfied: pytz>=2020.1 in /usr/local/lib/python3.10/dist-packages (from pandas) (2024.1)\n",
            "Requirement already satisfied: tzdata>=2022.1 in /usr/local/lib/python3.10/dist-packages (from pandas) (2024.1)\n",
            "Requirement already satisfied: contourpy>=1.0.1 in /usr/local/lib/python3.10/dist-packages (from matplotlib) (1.2.1)\n",
            "Requirement already satisfied: cycler>=0.10 in /usr/local/lib/python3.10/dist-packages (from matplotlib) (0.12.1)\n",
            "Requirement already satisfied: fonttools>=4.22.0 in /usr/local/lib/python3.10/dist-packages (from matplotlib) (4.53.1)\n",
            "Requirement already satisfied: kiwisolver>=1.0.1 in /usr/local/lib/python3.10/dist-packages (from matplotlib) (1.4.5)\n",
            "Requirement already satisfied: packaging>=20.0 in /usr/local/lib/python3.10/dist-packages (from matplotlib) (24.1)\n",
            "Requirement already satisfied: pillow>=6.2.0 in /usr/local/lib/python3.10/dist-packages (from matplotlib) (9.4.0)\n",
            "Requirement already satisfied: pyparsing>=2.3.1 in /usr/local/lib/python3.10/dist-packages (from matplotlib) (3.1.2)\n",
            "Requirement already satisfied: joblib>=1.1.1 in /usr/local/lib/python3.10/dist-packages (from scikit-learn) (1.4.2)\n",
            "Requirement already satisfied: threadpoolctl>=2.0.0 in /usr/local/lib/python3.10/dist-packages (from scikit-learn) (3.5.0)\n",
            "Requirement already satisfied: six>=1.5 in /usr/local/lib/python3.10/dist-packages (from python-dateutil>=2.8.2->pandas) (1.16.0)\n",
            "Importing all packages...\n",
            "Loading data...\n",
            "Found some dust. Cleaning data...\n",
            "Converting data to features and targets...\n",
            "Doing some magic...\n",
            "Done! You can start running your own code now\n"
          ]
        },
        {
          "output_type": "stream",
          "name": "stderr",
          "text": [
            "<ipython-input-17-9cda1431d12b>:25: SettingWithCopyWarning: \n",
            "A value is trying to be set on a copy of a slice from a DataFrame\n",
            "\n",
            "See the caveats in the documentation: https://pandas.pydata.org/pandas-docs/stable/user_guide/indexing.html#returning-a-view-versus-a-copy\n",
            "  cleaned_data[\"age\"].iloc[age_idx] = cleaned_data.age.mean()\n"
          ]
        }
      ]
    },
    {
      "cell_type": "markdown",
      "source": [
        "## **START HERE** and check the overview of the dataset ⬇"
      ],
      "metadata": {
        "id": "QivWmsOJKeUi"
      }
    },
    {
      "cell_type": "code",
      "source": [
        "# show first 5 rows of the dataset\n",
        "\n",
        "train_data.head()"
      ],
      "metadata": {
        "id": "NS8emmRhKetQ",
        "outputId": "11941759-5938-4aaf-beca-7d42b302adc5",
        "colab": {
          "base_uri": "https://localhost:8080/",
          "height": 206
        }
      },
      "execution_count": 18,
      "outputs": [
        {
          "output_type": "execute_result",
          "data": {
            "text/plain": [
              "   pclass sex   age  sibsp  parch     fare  embarked  alone\n",
              "0       1   1  35.0      1      0  90.0000         2      0\n",
              "1       3   1  24.0      0      0   8.8500         2      1\n",
              "2       3   0  21.0      0      0   7.9250         2      1\n",
              "3       2   0  36.0      1      2  27.7500         2      0\n",
              "4       2   0  29.0      1      0  27.7208         0      0"
            ],
            "text/html": [
              "\n",
              "  <div id=\"df-1411c299-60fc-413c-b868-d30c8754be7b\" class=\"colab-df-container\">\n",
              "    <div>\n",
              "<style scoped>\n",
              "    .dataframe tbody tr th:only-of-type {\n",
              "        vertical-align: middle;\n",
              "    }\n",
              "\n",
              "    .dataframe tbody tr th {\n",
              "        vertical-align: top;\n",
              "    }\n",
              "\n",
              "    .dataframe thead th {\n",
              "        text-align: right;\n",
              "    }\n",
              "</style>\n",
              "<table border=\"1\" class=\"dataframe\">\n",
              "  <thead>\n",
              "    <tr style=\"text-align: right;\">\n",
              "      <th></th>\n",
              "      <th>pclass</th>\n",
              "      <th>sex</th>\n",
              "      <th>age</th>\n",
              "      <th>sibsp</th>\n",
              "      <th>parch</th>\n",
              "      <th>fare</th>\n",
              "      <th>embarked</th>\n",
              "      <th>alone</th>\n",
              "    </tr>\n",
              "  </thead>\n",
              "  <tbody>\n",
              "    <tr>\n",
              "      <th>0</th>\n",
              "      <td>1</td>\n",
              "      <td>1</td>\n",
              "      <td>35.0</td>\n",
              "      <td>1</td>\n",
              "      <td>0</td>\n",
              "      <td>90.0000</td>\n",
              "      <td>2</td>\n",
              "      <td>0</td>\n",
              "    </tr>\n",
              "    <tr>\n",
              "      <th>1</th>\n",
              "      <td>3</td>\n",
              "      <td>1</td>\n",
              "      <td>24.0</td>\n",
              "      <td>0</td>\n",
              "      <td>0</td>\n",
              "      <td>8.8500</td>\n",
              "      <td>2</td>\n",
              "      <td>1</td>\n",
              "    </tr>\n",
              "    <tr>\n",
              "      <th>2</th>\n",
              "      <td>3</td>\n",
              "      <td>0</td>\n",
              "      <td>21.0</td>\n",
              "      <td>0</td>\n",
              "      <td>0</td>\n",
              "      <td>7.9250</td>\n",
              "      <td>2</td>\n",
              "      <td>1</td>\n",
              "    </tr>\n",
              "    <tr>\n",
              "      <th>3</th>\n",
              "      <td>2</td>\n",
              "      <td>0</td>\n",
              "      <td>36.0</td>\n",
              "      <td>1</td>\n",
              "      <td>2</td>\n",
              "      <td>27.7500</td>\n",
              "      <td>2</td>\n",
              "      <td>0</td>\n",
              "    </tr>\n",
              "    <tr>\n",
              "      <th>4</th>\n",
              "      <td>2</td>\n",
              "      <td>0</td>\n",
              "      <td>29.0</td>\n",
              "      <td>1</td>\n",
              "      <td>0</td>\n",
              "      <td>27.7208</td>\n",
              "      <td>0</td>\n",
              "      <td>0</td>\n",
              "    </tr>\n",
              "  </tbody>\n",
              "</table>\n",
              "</div>\n",
              "    <div class=\"colab-df-buttons\">\n",
              "\n",
              "  <div class=\"colab-df-container\">\n",
              "    <button class=\"colab-df-convert\" onclick=\"convertToInteractive('df-1411c299-60fc-413c-b868-d30c8754be7b')\"\n",
              "            title=\"Convert this dataframe to an interactive table.\"\n",
              "            style=\"display:none;\">\n",
              "\n",
              "  <svg xmlns=\"http://www.w3.org/2000/svg\" height=\"24px\" viewBox=\"0 -960 960 960\">\n",
              "    <path d=\"M120-120v-720h720v720H120Zm60-500h600v-160H180v160Zm220 220h160v-160H400v160Zm0 220h160v-160H400v160ZM180-400h160v-160H180v160Zm440 0h160v-160H620v160ZM180-180h160v-160H180v160Zm440 0h160v-160H620v160Z\"/>\n",
              "  </svg>\n",
              "    </button>\n",
              "\n",
              "  <style>\n",
              "    .colab-df-container {\n",
              "      display:flex;\n",
              "      gap: 12px;\n",
              "    }\n",
              "\n",
              "    .colab-df-convert {\n",
              "      background-color: #E8F0FE;\n",
              "      border: none;\n",
              "      border-radius: 50%;\n",
              "      cursor: pointer;\n",
              "      display: none;\n",
              "      fill: #1967D2;\n",
              "      height: 32px;\n",
              "      padding: 0 0 0 0;\n",
              "      width: 32px;\n",
              "    }\n",
              "\n",
              "    .colab-df-convert:hover {\n",
              "      background-color: #E2EBFA;\n",
              "      box-shadow: 0px 1px 2px rgba(60, 64, 67, 0.3), 0px 1px 3px 1px rgba(60, 64, 67, 0.15);\n",
              "      fill: #174EA6;\n",
              "    }\n",
              "\n",
              "    .colab-df-buttons div {\n",
              "      margin-bottom: 4px;\n",
              "    }\n",
              "\n",
              "    [theme=dark] .colab-df-convert {\n",
              "      background-color: #3B4455;\n",
              "      fill: #D2E3FC;\n",
              "    }\n",
              "\n",
              "    [theme=dark] .colab-df-convert:hover {\n",
              "      background-color: #434B5C;\n",
              "      box-shadow: 0px 1px 3px 1px rgba(0, 0, 0, 0.15);\n",
              "      filter: drop-shadow(0px 1px 2px rgba(0, 0, 0, 0.3));\n",
              "      fill: #FFFFFF;\n",
              "    }\n",
              "  </style>\n",
              "\n",
              "    <script>\n",
              "      const buttonEl =\n",
              "        document.querySelector('#df-1411c299-60fc-413c-b868-d30c8754be7b button.colab-df-convert');\n",
              "      buttonEl.style.display =\n",
              "        google.colab.kernel.accessAllowed ? 'block' : 'none';\n",
              "\n",
              "      async function convertToInteractive(key) {\n",
              "        const element = document.querySelector('#df-1411c299-60fc-413c-b868-d30c8754be7b');\n",
              "        const dataTable =\n",
              "          await google.colab.kernel.invokeFunction('convertToInteractive',\n",
              "                                                    [key], {});\n",
              "        if (!dataTable) return;\n",
              "\n",
              "        const docLinkHtml = 'Like what you see? Visit the ' +\n",
              "          '<a target=\"_blank\" href=https://colab.research.google.com/notebooks/data_table.ipynb>data table notebook</a>'\n",
              "          + ' to learn more about interactive tables.';\n",
              "        element.innerHTML = '';\n",
              "        dataTable['output_type'] = 'display_data';\n",
              "        await google.colab.output.renderOutput(dataTable, element);\n",
              "        const docLink = document.createElement('div');\n",
              "        docLink.innerHTML = docLinkHtml;\n",
              "        element.appendChild(docLink);\n",
              "      }\n",
              "    </script>\n",
              "  </div>\n",
              "\n",
              "\n",
              "<div id=\"df-129e0a9a-9960-4502-8403-b569eb1d69e9\">\n",
              "  <button class=\"colab-df-quickchart\" onclick=\"quickchart('df-129e0a9a-9960-4502-8403-b569eb1d69e9')\"\n",
              "            title=\"Suggest charts\"\n",
              "            style=\"display:none;\">\n",
              "\n",
              "<svg xmlns=\"http://www.w3.org/2000/svg\" height=\"24px\"viewBox=\"0 0 24 24\"\n",
              "     width=\"24px\">\n",
              "    <g>\n",
              "        <path d=\"M19 3H5c-1.1 0-2 .9-2 2v14c0 1.1.9 2 2 2h14c1.1 0 2-.9 2-2V5c0-1.1-.9-2-2-2zM9 17H7v-7h2v7zm4 0h-2V7h2v10zm4 0h-2v-4h2v4z\"/>\n",
              "    </g>\n",
              "</svg>\n",
              "  </button>\n",
              "\n",
              "<style>\n",
              "  .colab-df-quickchart {\n",
              "      --bg-color: #E8F0FE;\n",
              "      --fill-color: #1967D2;\n",
              "      --hover-bg-color: #E2EBFA;\n",
              "      --hover-fill-color: #174EA6;\n",
              "      --disabled-fill-color: #AAA;\n",
              "      --disabled-bg-color: #DDD;\n",
              "  }\n",
              "\n",
              "  [theme=dark] .colab-df-quickchart {\n",
              "      --bg-color: #3B4455;\n",
              "      --fill-color: #D2E3FC;\n",
              "      --hover-bg-color: #434B5C;\n",
              "      --hover-fill-color: #FFFFFF;\n",
              "      --disabled-bg-color: #3B4455;\n",
              "      --disabled-fill-color: #666;\n",
              "  }\n",
              "\n",
              "  .colab-df-quickchart {\n",
              "    background-color: var(--bg-color);\n",
              "    border: none;\n",
              "    border-radius: 50%;\n",
              "    cursor: pointer;\n",
              "    display: none;\n",
              "    fill: var(--fill-color);\n",
              "    height: 32px;\n",
              "    padding: 0;\n",
              "    width: 32px;\n",
              "  }\n",
              "\n",
              "  .colab-df-quickchart:hover {\n",
              "    background-color: var(--hover-bg-color);\n",
              "    box-shadow: 0 1px 2px rgba(60, 64, 67, 0.3), 0 1px 3px 1px rgba(60, 64, 67, 0.15);\n",
              "    fill: var(--button-hover-fill-color);\n",
              "  }\n",
              "\n",
              "  .colab-df-quickchart-complete:disabled,\n",
              "  .colab-df-quickchart-complete:disabled:hover {\n",
              "    background-color: var(--disabled-bg-color);\n",
              "    fill: var(--disabled-fill-color);\n",
              "    box-shadow: none;\n",
              "  }\n",
              "\n",
              "  .colab-df-spinner {\n",
              "    border: 2px solid var(--fill-color);\n",
              "    border-color: transparent;\n",
              "    border-bottom-color: var(--fill-color);\n",
              "    animation:\n",
              "      spin 1s steps(1) infinite;\n",
              "  }\n",
              "\n",
              "  @keyframes spin {\n",
              "    0% {\n",
              "      border-color: transparent;\n",
              "      border-bottom-color: var(--fill-color);\n",
              "      border-left-color: var(--fill-color);\n",
              "    }\n",
              "    20% {\n",
              "      border-color: transparent;\n",
              "      border-left-color: var(--fill-color);\n",
              "      border-top-color: var(--fill-color);\n",
              "    }\n",
              "    30% {\n",
              "      border-color: transparent;\n",
              "      border-left-color: var(--fill-color);\n",
              "      border-top-color: var(--fill-color);\n",
              "      border-right-color: var(--fill-color);\n",
              "    }\n",
              "    40% {\n",
              "      border-color: transparent;\n",
              "      border-right-color: var(--fill-color);\n",
              "      border-top-color: var(--fill-color);\n",
              "    }\n",
              "    60% {\n",
              "      border-color: transparent;\n",
              "      border-right-color: var(--fill-color);\n",
              "    }\n",
              "    80% {\n",
              "      border-color: transparent;\n",
              "      border-right-color: var(--fill-color);\n",
              "      border-bottom-color: var(--fill-color);\n",
              "    }\n",
              "    90% {\n",
              "      border-color: transparent;\n",
              "      border-bottom-color: var(--fill-color);\n",
              "    }\n",
              "  }\n",
              "</style>\n",
              "\n",
              "  <script>\n",
              "    async function quickchart(key) {\n",
              "      const quickchartButtonEl =\n",
              "        document.querySelector('#' + key + ' button');\n",
              "      quickchartButtonEl.disabled = true;  // To prevent multiple clicks.\n",
              "      quickchartButtonEl.classList.add('colab-df-spinner');\n",
              "      try {\n",
              "        const charts = await google.colab.kernel.invokeFunction(\n",
              "            'suggestCharts', [key], {});\n",
              "      } catch (error) {\n",
              "        console.error('Error during call to suggestCharts:', error);\n",
              "      }\n",
              "      quickchartButtonEl.classList.remove('colab-df-spinner');\n",
              "      quickchartButtonEl.classList.add('colab-df-quickchart-complete');\n",
              "    }\n",
              "    (() => {\n",
              "      let quickchartButtonEl =\n",
              "        document.querySelector('#df-129e0a9a-9960-4502-8403-b569eb1d69e9 button');\n",
              "      quickchartButtonEl.style.display =\n",
              "        google.colab.kernel.accessAllowed ? 'block' : 'none';\n",
              "    })();\n",
              "  </script>\n",
              "</div>\n",
              "\n",
              "    </div>\n",
              "  </div>\n"
            ],
            "application/vnd.google.colaboratory.intrinsic+json": {
              "type": "dataframe",
              "variable_name": "train_data",
              "summary": "{\n  \"name\": \"train_data\",\n  \"rows\": 622,\n  \"fields\": [\n    {\n      \"column\": \"pclass\",\n      \"properties\": {\n        \"dtype\": \"number\",\n        \"std\": 0,\n        \"min\": 1,\n        \"max\": 3,\n        \"num_unique_values\": 3,\n        \"samples\": [\n          1,\n          3,\n          2\n        ],\n        \"semantic_type\": \"\",\n        \"description\": \"\"\n      }\n    },\n    {\n      \"column\": \"sex\",\n      \"properties\": {\n        \"dtype\": \"date\",\n        \"min\": 0,\n        \"max\": 1,\n        \"num_unique_values\": 2,\n        \"samples\": [\n          0,\n          1\n        ],\n        \"semantic_type\": \"\",\n        \"description\": \"\"\n      }\n    },\n    {\n      \"column\": \"age\",\n      \"properties\": {\n        \"dtype\": \"number\",\n        \"std\": 13.26735454033874,\n        \"min\": 0.42,\n        \"max\": 80.0,\n        \"num_unique_values\": 85,\n        \"samples\": [\n          70.0,\n          35.0\n        ],\n        \"semantic_type\": \"\",\n        \"description\": \"\"\n      }\n    },\n    {\n      \"column\": \"sibsp\",\n      \"properties\": {\n        \"dtype\": \"number\",\n        \"std\": 1,\n        \"min\": 0,\n        \"max\": 8,\n        \"num_unique_values\": 7,\n        \"samples\": [\n          1,\n          0\n        ],\n        \"semantic_type\": \"\",\n        \"description\": \"\"\n      }\n    },\n    {\n      \"column\": \"parch\",\n      \"properties\": {\n        \"dtype\": \"number\",\n        \"std\": 0,\n        \"min\": 0,\n        \"max\": 6,\n        \"num_unique_values\": 7,\n        \"samples\": [\n          0,\n          2\n        ],\n        \"semantic_type\": \"\",\n        \"description\": \"\"\n      }\n    },\n    {\n      \"column\": \"fare\",\n      \"properties\": {\n        \"dtype\": \"number\",\n        \"std\": 50.97679842066815,\n        \"min\": 0.0,\n        \"max\": 512.3292,\n        \"num_unique_values\": 211,\n        \"samples\": [\n          7.7958,\n          5.0\n        ],\n        \"semantic_type\": \"\",\n        \"description\": \"\"\n      }\n    },\n    {\n      \"column\": \"embarked\",\n      \"properties\": {\n        \"dtype\": \"number\",\n        \"std\": 0,\n        \"min\": 0,\n        \"max\": 2,\n        \"num_unique_values\": 3,\n        \"samples\": [\n          2,\n          0\n        ],\n        \"semantic_type\": \"\",\n        \"description\": \"\"\n      }\n    },\n    {\n      \"column\": \"alone\",\n      \"properties\": {\n        \"dtype\": \"number\",\n        \"std\": 0,\n        \"min\": 0,\n        \"max\": 1,\n        \"num_unique_values\": 2,\n        \"samples\": [\n          1,\n          0\n        ],\n        \"semantic_type\": \"\",\n        \"description\": \"\"\n      }\n    }\n  ]\n}"
            }
          },
          "metadata": {},
          "execution_count": 18
        }
      ]
    },
    {
      "cell_type": "markdown",
      "source": [
        "As you can see, there are several columns with different types of information, giving information about each passenger.\n",
        "\n",
        "For example, the age and sex of each person is shown in the columns \"age\" and \"sex\". More complex information such as the passenger class and the fare, are available as well.\n",
        "\n",
        "See the below section for an explanation of each column and their meaning."
      ],
      "metadata": {
        "id": "ecB0t-aTK51n"
      }
    },
    {
      "cell_type": "markdown",
      "source": [
        "## The Titanic Dataset\n",
        "  sourced from seaborn example datasets\n",
        "\n",
        "  Definition\tKey\n",
        "\n",
        "  pclass |Ticket class |\t1 = 1st, 2 = 2nd, 3 = 3rd\n",
        "\n",
        "  sex |\tSex | 1 = female, 0 = male\n",
        "\n",
        "  Age |\tAge in years\n",
        "\n",
        "  sibsp |\t# of siblings / spouses aboard the Titanic\n",
        "\n",
        "  parch |\t# of parents / children aboard the Titanic\n",
        "\n",
        "  ticket |\tTicket number\n",
        "\n",
        "  fare |\tPassenger fare\n",
        "\n",
        "  embarked |\tPort of Embarkation |\t0 = Cherbourg, 1 = Queenstown, 2 = Southampton"
      ],
      "metadata": {
        "id": "t5EEnMVbMCZH"
      }
    },
    {
      "cell_type": "code",
      "source": [
        "# show the targets\n",
        "print(\"People that survived according to the training data:\")\n",
        "print(\"{} of {}\".format(train_targets.sum(), train_targets.shape[0]))"
      ],
      "metadata": {
        "id": "TvKPwO8YPxuc",
        "outputId": "62765b6a-0cba-4766-fa40-ffecad2aa1e8",
        "colab": {
          "base_uri": "https://localhost:8080/"
        }
      },
      "execution_count": 24,
      "outputs": [
        {
          "output_type": "stream",
          "name": "stdout",
          "text": [
            "People that survived according to the training data:\n",
            "240 of 622\n"
          ]
        }
      ]
    },
    {
      "cell_type": "markdown",
      "source": [
        "## Training a machine learning classifier to predict who survived and who did not"
      ],
      "metadata": {
        "id": "77pGI8tqM0Hb"
      }
    },
    {
      "cell_type": "markdown",
      "source": [
        "### Splitting data into training and validation:\n",
        "\n",
        "Because we do not have access to the test data (which will be used to evaluate your classifier in the last step), we need to train our model and validate its performance on a seperate set of data.\n",
        "\n",
        "This set is called \"validation set\" and is split from the available (known) training data."
      ],
      "metadata": {
        "id": "5aL0CMNpM_ge"
      }
    },
    {
      "cell_type": "code",
      "source": [
        "# split the data into 2 parts\n",
        "# train data (which are the features we train on) and the corresponding labels/targets (if a person has survived)\n",
        "# and validation\n",
        "\n",
        "# In ML features are often referred to as X and targets as y.\n",
        "\n",
        "X_train, X_val, y_train, y_val = train_test_split(train_data\n",
        "                                                  , train_targets\n",
        "                                                  , test_size=0.2 # chose the ratio of test/train split between 0 and 1\n",
        "                                                  , random_state=4 # setting a random state allows to reproduce the same train/test set\n",
        "                                                  # as there is some randomness involved in picking\n",
        "                                                  )\n",
        "print(\"How many samples do we have?\")\n",
        "print(\"Training set: {} samples\".format(X_train.shape[0]))\n",
        "print(\"Validation set: {} samples\".format(X_val.shape[0]))"
      ],
      "metadata": {
        "colab": {
          "base_uri": "https://localhost:8080/"
        },
        "id": "7WajXyYNM0EA",
        "outputId": "a9000760-bd71-4830-c2eb-345f0f9055e0"
      },
      "execution_count": 28,
      "outputs": [
        {
          "output_type": "stream",
          "name": "stdout",
          "text": [
            "How many samples do we have?\n",
            "Training set: 497 samples\n",
            "Validation set: 125 samples\n"
          ]
        }
      ]
    },
    {
      "cell_type": "code",
      "source": [
        "#@title Example solution of model import and training (only use if you need a hint)\n",
        "\n",
        "# select a model and import it\n",
        "from sklearn.ensemble import RandomForestClassifier\n",
        "# train the model with chosen parameters\n",
        "clf = RandomForestClassifier(n_estimators=100\n",
        "                             , random_state=42)\n",
        "\n",
        "#some features are more usefull then others. For example, the sex and age should be quite informative, as the famous Simpsons quote goes:\n",
        "# \"Is anyone thinking of the children?\"\n",
        "\n",
        "#select the feature age\n",
        "selected_features = [\"age\"]\n",
        "\n",
        "sel_X_train = X_train[selected_features]\n",
        "sel_X_val = X_val[selected_features]\n",
        "\n",
        "#fit the model with training data\n",
        "print(\"Fitting 'children'-classifier...\")\n",
        "clf.fit(sel_X_train, y_train)\n",
        "\n",
        "# predict the validation set\n",
        "y_pred = clf.predict(sel_X_val)\n",
        "\n",
        "# calculate the accuracy\n",
        "accuracy = accuracy_score(y_val, y_pred)\n",
        "print(\"Validation accuracy: {:.2f}%\".format(accuracy * 100))\n",
        "\n",
        "print(\"Wow, that's close to chance! \\n Maybe they did not only think of age when deciding who should be saved...\\\n",
        "\\n Now it's your turn!\")\n"
      ],
      "metadata": {
        "id": "bsymzuDSQ-mb",
        "outputId": "71e4515c-fb0a-4fb1-aec2-41474bb9fb81",
        "colab": {
          "base_uri": "https://localhost:8080/"
        }
      },
      "execution_count": 41,
      "outputs": [
        {
          "output_type": "stream",
          "name": "stdout",
          "text": [
            "Fitting 'children'-classifier...\n",
            "Validation accuracy: 51.20%\n",
            "Wow, that's close to chance! \n",
            " Maybe they did not think of only age when deciding who should be saved...\n",
            " Now it's your turn!\n"
          ]
        }
      ]
    },
    {
      "cell_type": "markdown",
      "metadata": {
        "id": "UFzcD0Jivf3-"
      },
      "source": [
        "## Testing on the test set\n",
        "\n",
        "Final step of the challenge. Each time you want to really see the performance of your classifier and \"submit\" a result to us. Run the cell below with your latest classifier (here called \"clf\").\n",
        "\n",
        "Don't forget to change or specify the features in the same way, you did for training and validation!"
      ]
    },
    {
      "cell_type": "code",
      "execution_count": 46,
      "metadata": {
        "id": "RwnQbjA7vdG-",
        "colab": {
          "base_uri": "https://localhost:8080/"
        },
        "outputId": "65a8cda9-dec6-4ff8-9890-ee43bf97b4ad"
      },
      "outputs": [
        {
          "output_type": "stream",
          "name": "stdout",
          "text": [
            "Test accuracy: 64.42%\n",
            "You can run this again everytime you trained a new classifier. \n",
            " We ask you to celebrate each performance boost! \n",
            "   Sometimes (especially in industry) even a few percent points are saving millions\n"
          ]
        }
      ],
      "source": [
        "# use the classifier to predict on the test data\n",
        "y_pred = clf.predict(test_data[selected_features])\n",
        "\n",
        "# calculate the accuracy\n",
        "accuracy = accuracy_score(test_targets, y_pred)\n",
        "\n",
        "print(\"Test accuracy: {:.2f}%\".format(accuracy * 100))\n",
        "print(\"You can run this again everytime you trained a new classifier. \\n\\\n",
        " We ask you to celebrate each performance boost! \\n \\\n",
        "  Sometimes (especially in industry) even a few percent points are saving millions\")\n"
      ]
    },
    {
      "cell_type": "code",
      "source": [],
      "metadata": {
        "id": "IOCbd4dHbqGE"
      },
      "execution_count": null,
      "outputs": []
    }
  ],
  "metadata": {
    "colab": {
      "provenance": [],
      "authorship_tag": "ABX9TyNKGoQRpbDH+9fxMLpAtwZS",
      "include_colab_link": true
    },
    "kernelspec": {
      "display_name": "Python 3",
      "name": "python3"
    },
    "language_info": {
      "name": "python"
    }
  },
  "nbformat": 4,
  "nbformat_minor": 0
}